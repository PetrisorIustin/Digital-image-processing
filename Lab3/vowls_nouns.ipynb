{
 "cells": [
  {
   "cell_type": "code",
   "execution_count": 1,
   "metadata": {},
   "outputs": [],
   "source": [
    "import cv2\n",
    "from matplotlib import pyplot as plt\n",
    "import glob\n",
    "import numpy as np\n",
    "from math import floor\n",
    "import glob"
   ]
  },
  {
   "cell_type": "code",
   "execution_count": 2,
   "metadata": {},
   "outputs": [],
   "source": [
    "def imread(path):\n",
    "    return cv2.imread(path)[:,:,::-1]"
   ]
  },
  {
   "cell_type": "code",
   "execution_count": 3,
   "metadata": {},
   "outputs": [],
   "source": [
    "images_vows = [cv2.resize(imread(file), (28, 28))  for file in glob.glob('training_set/vowls/*.png')]\n",
    "images_nouns = [cv2.resize(imread(file), (28, 28))  for file in glob.glob('training_set/nouns/*.png')]\n",
    "\n",
    "\n",
    "images_vows = [~cv2.adaptiveThreshold(cv2.cvtColor(img,cv2.COLOR_BGR2GRAY),255,1,1,11,2)  for img in images_vows]\n",
    "images_nouns = [~cv2.adaptiveThreshold(cv2.cvtColor(img,cv2.COLOR_BGR2GRAY),255,1,1,11,2)  for img in images_nouns]\n"
   ]
  },
  {
   "cell_type": "code",
   "execution_count": 4,
   "metadata": {},
   "outputs": [],
   "source": [
    "labels = [1 for i in images_vows] + [0 for i in images_nouns]"
   ]
  },
  {
   "cell_type": "code",
   "execution_count": 5,
   "metadata": {},
   "outputs": [
    {
     "data": {
      "text/plain": [
       "<matplotlib.image.AxesImage at 0x235cd5941d0>"
      ]
     },
     "execution_count": 5,
     "metadata": {},
     "output_type": "execute_result"
    },
    {
     "data": {
      "image/png": "[encoded data removed]",
      "text/plain": [
       "<Figure size 432x288 with 1 Axes>"
      ]
     },
     "metadata": {},
     "output_type": "display_data"
    }
   ],
   "source": [
    "plt.imshow(images_vows[0])"
   ]
  },
  {
   "cell_type": "code",
   "execution_count": 6,
   "metadata": {},
   "outputs": [
    {
     "name": "stderr",
     "output_type": "stream",
     "text": [
      "C:\\Users\\iustin.petrisor\\AppData\\Local\\Continuum\\anaconda3\\lib\\site-packages\\h5py\\__init__.py:36: FutureWarning: Conversion of the second argument of issubdtype from `float` to `np.floating` is deprecated. In future, it will be treated as `np.float64 == np.dtype(float).type`.\n",
      "  from ._conv import register_converters as _register_converters\n",
      "Using TensorFlow backend.\n"
     ]
    }
   ],
   "source": [
    "from keras.models import Sequential\n",
    "from keras import optimizers\n",
    "from keras.layers import Conv2D, MaxPooling2D, Dropout, Flatten, Dense, Reshape, LSTM\n",
    "from keras import backend as K\n",
    "from keras.constraints import maxnorm\n",
    "from keras.preprocessing.image import ImageDataGenerator\n",
    "\n",
    "from keras.utils import np_utils"
   ]
  },
  {
   "cell_type": "code",
   "execution_count": 7,
   "metadata": {},
   "outputs": [],
   "source": [
    "model = Sequential()\n",
    "#add model layers\n",
    "model.add(Conv2D(64, kernel_size=3, activation='relu', input_shape=(28,28,1)))\n",
    "model.add(Conv2D(32, kernel_size=3, activation='relu'))\n",
    "model.add(Flatten())\n",
    "model.add(Dense(1, activation='sigmoid'))\n",
    "model.compile(loss='binary_crossentropy', optimizer='adam', metrics=['accuracy'])"
   ]
  },
  {
   "cell_type": "code",
   "execution_count": 8,
   "metadata": {},
   "outputs": [],
   "source": [
    "images = np.array(images_vows + images_nouns)\n",
    "X_train = images.reshape(images.shape[0], 28, 28, 1)\n"
   ]
  },
  {
   "cell_type": "code",
   "execution_count": null,
   "metadata": {},
   "outputs": [],
   "source": []
  },
  {
   "cell_type": "code",
   "execution_count": 9,
   "metadata": {},
   "outputs": [
    {
     "name": "stdout",
     "output_type": "stream",
     "text": [
      "Epoch 1/30\n",
      "1/0 [======================================] - 0s 242ms/step - loss: 0.6977 - accuracy: 0.5200\n",
      "Epoch 2/30\n",
      "1/0 [======================================] - 0s 35ms/step - loss: 0.5650 - accuracy: 0.7600\n",
      "Epoch 3/30\n",
      "1/0 [======================================] - 0s 66ms/step - loss: 0.5887 - accuracy: 0.7600\n",
      "Epoch 4/30\n",
      "1/0 [======================================] - 0s 119ms/step - loss: 0.5667 - accuracy: 0.7600\n",
      "Epoch 5/30\n",
      "1/0 [======================================] - 0s 83ms/step - loss: 0.5343 - accuracy: 0.7600\n",
      "Epoch 6/30\n",
      "1/0 [======================================] - 0s 110ms/step - loss: 0.5225 - accuracy: 0.7600\n",
      "Epoch 7/30\n",
      "1/0 [======================================] - 0s 93ms/step - loss: 0.5291 - accuracy: 0.7600\n",
      "Epoch 8/30\n",
      "1/0 [======================================] - 0s 103ms/step - loss: 0.4984 - accuracy: 0.7600\n",
      "Epoch 9/30\n",
      "1/0 [======================================] - 0s 156ms/step - loss: 0.5375 - accuracy: 0.7600\n",
      "Epoch 10/30\n",
      "1/0 [======================================] - 0s 51ms/step - loss: 0.4894 - accuracy: 0.7600\n",
      "Epoch 11/30\n",
      "1/0 [======================================] - 0s 150ms/step - loss: 0.5600 - accuracy: 0.7600\n",
      "Epoch 12/30\n",
      "1/0 [======================================] - 0s 56ms/step - loss: 0.4298 - accuracy: 0.7600\n",
      "Epoch 13/30\n",
      "1/0 [======================================] - 0s 113ms/step - loss: 0.4640 - accuracy: 0.7600\n",
      "Epoch 14/30\n",
      "1/0 [======================================] - 0s 88ms/step - loss: 0.4669 - accuracy: 0.8000\n",
      "Epoch 15/30\n",
      "1/0 [======================================] - 0s 102ms/step - loss: 0.4932 - accuracy: 0.7600\n",
      "Epoch 16/30\n",
      "1/0 [======================================] - 0s 103ms/step - loss: 0.4862 - accuracy: 0.7200\n",
      "Epoch 17/30\n",
      "1/0 [======================================] - 0s 112ms/step - loss: 0.4964 - accuracy: 0.8000\n",
      "Epoch 18/30\n",
      "1/0 [======================================] - 0s 135ms/step - loss: 0.4191 - accuracy: 0.8000\n",
      "Epoch 19/30\n",
      "1/0 [======================================] - 0s 111ms/step - loss: 0.3919 - accuracy: 0.8800\n",
      "Epoch 20/30\n",
      "1/0 [======================================] - 0s 96ms/step - loss: 0.4887 - accuracy: 0.7600\n",
      "Epoch 21/30\n",
      "1/0 [======================================] - 0s 111ms/step - loss: 0.6301 - accuracy: 0.7600\n",
      "Epoch 22/30\n",
      "1/0 [======================================] - 0s 95ms/step - loss: 0.6599 - accuracy: 0.7200\n",
      "Epoch 23/30\n",
      "1/0 [======================================] - 0s 101ms/step - loss: 0.5857 - accuracy: 0.7200\n",
      "Epoch 24/30\n",
      "1/0 [======================================] - 0s 112ms/step - loss: 0.5461 - accuracy: 0.7600\n",
      "Epoch 25/30\n",
      "1/0 [======================================] - 0s 101ms/step - loss: 0.4708 - accuracy: 0.8000\n",
      "Epoch 26/30\n",
      "1/0 [======================================] - 0s 108ms/step - loss: 0.7307 - accuracy: 0.7600\n",
      "Epoch 27/30\n",
      "1/0 [======================================] - 0s 91ms/step - loss: 0.4998 - accuracy: 0.7200\n",
      "Epoch 28/30\n",
      "1/0 [======================================] - 0s 117ms/step - loss: 0.5110 - accuracy: 0.6800\n",
      "Epoch 29/30\n",
      "1/0 [======================================] - 0s 57ms/step - loss: 0.4548 - accuracy: 0.7600\n",
      "Epoch 30/30\n",
      "1/0 [======================================] - 0s 134ms/step - loss: 0.5453 - accuracy: 0.7200\n",
      "Epoch 0\n",
      "Epoch 1/1\n",
      "2/2 [==============================] - 0s 11ms/step - loss: 1.1301 - accuracy: 0.5000\n",
      "Epoch 1\n",
      "Epoch 1/1\n",
      "2/2 [==============================] - 0s 8ms/step - loss: 0.3081 - accuracy: 1.0000\n",
      "Epoch 2\n",
      "Epoch 1/1\n",
      "2/2 [==============================] - 0s 5ms/step - loss: 0.5533 - accuracy: 1.0000\n",
      "Epoch 3\n",
      "Epoch 1/1\n",
      "2/2 [==============================] - 0s 4ms/step - loss: 0.7819 - accuracy: 0.5000\n",
      "Epoch 4\n",
      "Epoch 1/1\n",
      "2/2 [==============================] - 0s 3ms/step - loss: 0.3472 - accuracy: 1.0000\n",
      "Epoch 5\n",
      "Epoch 1/1\n",
      "2/2 [==============================] - 0s 2ms/step - loss: 0.8488 - accuracy: 0.5000\n",
      "Epoch 6\n",
      "Epoch 1/1\n",
      "2/2 [==============================] - 0s 2ms/step - loss: 0.2700 - accuracy: 1.0000\n",
      "Epoch 7\n",
      "Epoch 1/1\n",
      "2/2 [==============================] - 0s 2ms/step - loss: 0.2363 - accuracy: 1.0000\n",
      "Epoch 8\n",
      "Epoch 1/1\n",
      "2/2 [==============================] - 0s 3ms/step - loss: 0.1776 - accuracy: 1.0000\n",
      "Epoch 9\n",
      "Epoch 1/1\n",
      "2/2 [==============================] - 0s 3ms/step - loss: 0.8589 - accuracy: 0.5000\n",
      "Epoch 10\n",
      "Epoch 1/1\n",
      "2/2 [==============================] - 0s 2ms/step - loss: 0.1629 - accuracy: 1.0000\n",
      "Epoch 11\n",
      "Epoch 1/1\n",
      "2/2 [==============================] - 0s 3ms/step - loss: 0.1424 - accuracy: 1.0000\n",
      "Epoch 12\n",
      "Epoch 1/1\n",
      "2/2 [==============================] - 0s 2ms/step - loss: 0.0945 - accuracy: 1.0000\n",
      "Epoch 13\n",
      "Epoch 1/1\n",
      "2/2 [==============================] - 0s 3ms/step - loss: 0.0581 - accuracy: 1.0000\n",
      "Epoch 14\n",
      "Epoch 1/1\n",
      "2/2 [==============================] - 0s 3ms/step - loss: 1.4390 - accuracy: 0.5000\n",
      "Epoch 15\n",
      "Epoch 1/1\n",
      "2/2 [==============================] - 0s 3ms/step - loss: 1.6202 - accuracy: 0.5000\n",
      "Epoch 16\n",
      "Epoch 1/1\n",
      "2/2 [==============================] - 0s 3ms/step - loss: 0.0578 - accuracy: 1.0000\n",
      "Epoch 17\n",
      "Epoch 1/1\n",
      "2/2 [==============================] - 0s 3ms/step - loss: 0.1027 - accuracy: 1.0000\n",
      "Epoch 18\n",
      "Epoch 1/1\n",
      "2/2 [==============================] - 0s 3ms/step - loss: 0.1193 - accuracy: 1.0000\n",
      "Epoch 19\n",
      "Epoch 1/1\n",
      "2/2 [==============================] - 0s 3ms/step - loss: 0.0971 - accuracy: 1.0000\n",
      "Epoch 20\n",
      "Epoch 1/1\n",
      "2/2 [==============================] - 0s 3ms/step - loss: 1.1271 - accuracy: 0.5000\n",
      "Epoch 21\n",
      "Epoch 1/1\n",
      "2/2 [==============================] - 0s 3ms/step - loss: 1.1877 - accuracy: 0.5000\n",
      "Epoch 22\n",
      "Epoch 1/1\n",
      "2/2 [==============================] - 0s 3ms/step - loss: 1.2760 - accuracy: 0.5000\n",
      "Epoch 23\n",
      "Epoch 1/1\n",
      "2/2 [==============================] - 0s 3ms/step - loss: 0.2594 - accuracy: 1.0000\n",
      "Epoch 24\n",
      "Epoch 1/1\n",
      "2/2 [==============================] - 0s 2ms/step - loss: 0.9682 - accuracy: 0.5000\n",
      "Epoch 25\n",
      "Epoch 1/1\n",
      "2/2 [==============================] - 0s 2ms/step - loss: 0.2332 - accuracy: 1.0000\n",
      "Epoch 26\n",
      "Epoch 1/1\n",
      "2/2 [==============================] - 0s 3ms/step - loss: 0.6348 - accuracy: 0.5000\n",
      "Epoch 27\n",
      "Epoch 1/1\n",
      "2/2 [==============================] - 0s 2ms/step - loss: 0.3113 - accuracy: 1.0000\n",
      "Epoch 28\n",
      "Epoch 1/1\n",
      "2/2 [==============================] - 0s 3ms/step - loss: 0.5042 - accuracy: 1.0000\n",
      "Epoch 29\n",
      "Epoch 1/1\n",
      "2/2 [==============================] - 0s 2ms/step - loss: 0.3991 - accuracy: 1.0000\n"
     ]
    }
   ],
   "source": [
    "datagen = ImageDataGenerator(\n",
    "    featurewise_center=True,\n",
    "    featurewise_std_normalization=True,\n",
    "    rotation_range=20,\n",
    "    width_shift_range=0.2,\n",
    "    height_shift_range=0.2)\n",
    "\n",
    "# compute quantities required for featurewise normalization\n",
    "# (std, mean, and principal components if ZCA whitening is applied)\n",
    "datagen.fit(X_train)\n",
    "epochs = 30\n",
    "# fits the model on batches with real-time data augmentation:\n",
    "model.fit_generator(datagen.flow(X_train, labels, batch_size=32),\n",
    "                    steps_per_epoch=len(X_train) / 32, epochs=epochs)\n",
    "\n",
    "# here's a more \"manual\" example\n",
    "for e in range(epochs):\n",
    "    print('Epoch', e)\n",
    "    batches = 0\n",
    "    for x_batch, y_batch in datagen.flow(X_train, labels, batch_size=2):\n",
    "        model.fit(x_batch, y_batch)\n",
    "        batches += 1\n",
    "        if batches >= len(X_train) / 32:\n",
    "            # we need to break the loop by hand because\n",
    "            # the generator loops indefinitely\n",
    "            break"
   ]
  },
  {
   "cell_type": "code",
   "execution_count": 10,
   "metadata": {},
   "outputs": [],
   "source": [
    "model.save('letter.h5')"
   ]
  },
  {
   "cell_type": "code",
   "execution_count": 11,
   "metadata": {},
   "outputs": [
    {
     "data": {
      "text/plain": [
       "array([[0.],\n",
       "       [0.],\n",
       "       [0.],\n",
       "       [0.],\n",
       "       [0.],\n",
       "       [0.],\n",
       "       [0.]], dtype=float32)"
      ]
     },
     "execution_count": 11,
     "metadata": {},
     "output_type": "execute_result"
    }
   ],
   "source": [
    "model.predict(X_train[:7])"
   ]
  },
  {
   "cell_type": "code",
   "execution_count": 12,
   "metadata": {},
   "outputs": [
    {
     "data": {
      "text/plain": [
       "(28, 28, 1)"
      ]
     },
     "execution_count": 12,
     "metadata": {},
     "output_type": "execute_result"
    }
   ],
   "source": [
    "X_train[0].shape"
   ]
  },
  {
   "cell_type": "code",
   "execution_count": null,
   "metadata": {},
   "outputs": [],
   "source": []
  }
 ],
 "metadata": {
  "kernelspec": {
   "display_name": "Python [default]",
   "language": "python",
   "name": "python3"
  },
  "language_info": {
   "codemirror_mode": {
    "name": "ipython",
    "version": 3
   },
   "file_extension": ".py",
   "mimetype": "text/x-python",
   "name": "python",
   "nbconvert_exporter": "python",
   "pygments_lexer": "ipython3",
   "version": "3.6.5"
  },
  "varInspector": {
   "cols": {
    "lenName": 16,
    "lenType": 16,
    "lenVar": 40
   },
   "kernels_config": {
    "python": {
     "delete_cmd_postfix": "",
     "delete_cmd_prefix": "del ",
     "library": "var_list.py",
     "varRefreshCmd": "print(var_dic_list())"
    },
    "r": {
     "delete_cmd_postfix": ") ",
     "delete_cmd_prefix": "rm(",
     "library": "var_list.r",
     "varRefreshCmd": "cat(var_dic_list()) "
    }
   },
   "types_to_exclude": [
    "module",
    "function",
    "builtin_function_or_method",
    "instance",
    "_Feature"
   ],
   "window_display": false
  }
 },
 "nbformat": 4,
 "nbformat_minor": 2
}
